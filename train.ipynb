{
 "cells": [
  {
   "cell_type": "code",
   "execution_count": 2,
   "id": "689bc35a",
   "metadata": {},
   "outputs": [],
   "source": [
    "from tensorflow.keras.preprocessing.image import ImageDataGenerator\n",
    "from tensorflow.keras.optimizers import Adam\n",
    "from tensorflow.keras.preprocessing.image import img_to_array\n",
    "from tensorflow.keras.utils import to_categorical, plot_model\n",
    "from tensorflow.keras.models import Sequential\n",
    "from tensorflow.keras.layers import BatchNormalization, Conv2D, MaxPooling2D, Activation, Flatten, Dropout, Dense\n",
    "from tensorflow.keras import backend as K\n",
    "from sklearn.model_selection import train_test_split\n",
    "import matplotlib.pyplot as plt\n",
    "import numpy as np\n",
    "import random\n",
    "import cv2\n",
    "import os\n",
    "import glob\n"
   ]
  },
  {
   "cell_type": "code",
   "execution_count": 3,
   "id": "e176d91a",
   "metadata": {},
   "outputs": [],
   "source": [
    "# initial parameters\n",
    "epochs = 100\n",
    "lr = 1e-3\n",
    "batch_size = 64\n",
    "img_dims = (96,96,3)\n"
   ]
  },
  {
   "cell_type": "code",
   "execution_count": 4,
   "id": "7b011d33",
   "metadata": {},
   "outputs": [],
   "source": [
    "data = []\n",
    "labels = []"
   ]
  },
  {
   "cell_type": "code",
   "execution_count": 5,
   "id": "35f48a7c",
   "metadata": {},
   "outputs": [],
   "source": [
    "image_files = [f for f in glob.glob(r'gender_dataset_face' + \"/**/*\", recursive=True) if not os.path.isdir(f)]\n",
    "random.shuffle(image_files)"
   ]
  },
  {
   "cell_type": "code",
   "execution_count": 6,
   "id": "90587f38",
   "metadata": {},
   "outputs": [],
   "source": [
    "# converting images to arrays and labelling the categories\n",
    "for img in image_files:\n",
    "\n",
    "    image = cv2.imread(img)\n",
    "    \n",
    "    image = cv2.resize(image, (img_dims[0],img_dims[1]))\n",
    "    image = img_to_array(image)\n",
    "    data.append(image)\n",
    "\n",
    "    label = img.split(os.path.sep)[-2] # C:\\Files\\gender_dataset_face\\woman\\face_1162.jpg\n",
    "    if label == \"woman\":\n",
    "        label = 1\n",
    "    else:\n",
    "        label = 0\n",
    "        \n",
    "    labels.append([label]) # [[1], [0], [0], ...]"
   ]
  },
  {
   "cell_type": "code",
   "execution_count": 7,
   "id": "5e0ada64",
   "metadata": {},
   "outputs": [],
   "source": [
    "# pre-processing\n",
    "data = np.array(data, dtype=\"float\") / 255.0\n",
    "labels = np.array(labels)\n"
   ]
  },
  {
   "cell_type": "code",
   "execution_count": 8,
   "id": "0172f3b2",
   "metadata": {},
   "outputs": [],
   "source": [
    "# split dataset for training and validation\n",
    "(trainX, testX, trainY, testY) = train_test_split(data, labels, test_size=0.2,\n",
    "                                                  random_state=42)"
   ]
  },
  {
   "cell_type": "code",
   "execution_count": 9,
   "id": "c8b2c446",
   "metadata": {},
   "outputs": [],
   "source": [
    "trainY = to_categorical(trainY, num_classes=2) # [[1, 0], [0, 1], [0, 1], ...]\n",
    "testY = to_categorical(testY, num_classes=2)\n"
   ]
  },
  {
   "cell_type": "code",
   "execution_count": 10,
   "id": "325c77ee",
   "metadata": {},
   "outputs": [],
   "source": [
    "aug = ImageDataGenerator(rotation_range=25, width_shift_range=0.1,\n",
    "                         height_shift_range=0.1, shear_range=0.2, zoom_range=0.2,\n",
    "                         horizontal_flip=True, fill_mode=\"nearest\")"
   ]
  },
  {
   "cell_type": "code",
   "execution_count": 11,
   "id": "25154b3e",
   "metadata": {},
   "outputs": [],
   "source": [
    "# define model\n",
    "def build(width, height, depth, classes):\n",
    "    model = Sequential()\n",
    "    inputShape = (height, width, depth)\n",
    "    chanDim = -1\n",
    "\n",
    "    if K.image_data_format() == \"channels_first\": #Returns a string, either 'channels_first' or 'channels_last'\n",
    "        inputShape = (depth, height, width)\n",
    "        chanDim = 1\n",
    "    \n",
    "    # The axis that should be normalized, after a Conv2D layer with data_format=\"channels_first\", \n",
    "    # set axis=1 in BatchNormalization.\n",
    "\n",
    "    model.add(Conv2D(32, (3,3), padding=\"same\", input_shape=inputShape))\n",
    "    model.add(Activation(\"relu\"))\n",
    "    model.add(BatchNormalization(axis=chanDim))\n",
    "    model.add(MaxPooling2D(pool_size=(3,3)))\n",
    "    model.add(Dropout(0.25))\n",
    "\n",
    "    model.add(Conv2D(64, (3,3), padding=\"same\"))\n",
    "    model.add(Activation(\"relu\"))\n",
    "    model.add(BatchNormalization(axis=chanDim))\n",
    "\n",
    "    model.add(Conv2D(64, (3,3), padding=\"same\"))\n",
    "    model.add(Activation(\"relu\"))\n",
    "    model.add(BatchNormalization(axis=chanDim))\n",
    "    model.add(MaxPooling2D(pool_size=(2,2)))\n",
    "    model.add(Dropout(0.25))\n",
    "\n",
    "    model.add(Conv2D(128, (3,3), padding=\"same\"))\n",
    "    model.add(Activation(\"relu\"))\n",
    "    model.add(BatchNormalization(axis=chanDim))\n",
    "\n",
    "    model.add(Conv2D(128, (3,3), padding=\"same\"))\n",
    "    model.add(Activation(\"relu\"))\n",
    "    model.add(BatchNormalization(axis=chanDim))\n",
    "    model.add(MaxPooling2D(pool_size=(2,2)))\n",
    "    model.add(Dropout(0.25))\n",
    "\n",
    "    model.add(Flatten())\n",
    "    model.add(Dense(1024))\n",
    "    model.add(Activation(\"relu\"))\n",
    "    model.add(BatchNormalization())\n",
    "    model.add(Dropout(0.5))\n",
    "\n",
    "    model.add(Dense(classes))\n",
    "    model.add(Activation(\"sigmoid\"))\n",
    "\n",
    "    return model"
   ]
  },
  {
   "cell_type": "code",
   "execution_count": 12,
   "id": "dc10caff",
   "metadata": {},
   "outputs": [],
   "source": [
    "# build model\n",
    "model = build(width=img_dims[0], height=img_dims[1], depth=img_dims[2],\n",
    "                            classes=2)"
   ]
  },
  {
   "cell_type": "code",
   "execution_count": 13,
   "id": "3960183e",
   "metadata": {},
   "outputs": [
    {
     "name": "stderr",
     "output_type": "stream",
     "text": [
      "C:\\Users\\Pranav Pathak\\Desktop\\GDproject\\env\\lib\\site-packages\\keras\\optimizers\\optimizer_v2\\adam.py:114: UserWarning: The `lr` argument is deprecated, use `learning_rate` instead.\n",
      "  super().__init__(name, **kwargs)\n"
     ]
    }
   ],
   "source": [
    "opt = Adam(lr=lr, decay=lr/epochs)\n",
    "model.compile(loss=\"binary_crossentropy\", optimizer=opt, metrics=[\"accuracy\"])"
   ]
  },
  {
   "cell_type": "code",
   "execution_count": 14,
   "id": "f6b22e74",
   "metadata": {},
   "outputs": [
    {
     "name": "stderr",
     "output_type": "stream",
     "text": [
      "C:\\Users\\Pranav Pathak\\AppData\\Local\\Temp\\ipykernel_12180\\3811416611.py:2: UserWarning: `Model.fit_generator` is deprecated and will be removed in a future version. Please use `Model.fit`, which supports generators.\n",
      "  H = model.fit_generator(aug.flow(trainX, trainY, batch_size=batch_size),\n"
     ]
    },
    {
     "name": "stdout",
     "output_type": "stream",
     "text": [
      "Epoch 1/100\n",
      "28/28 [==============================] - 18s 560ms/step - loss: 0.7460 - accuracy: 0.7092 - val_loss: 0.7363 - val_accuracy: 0.4827\n",
      "Epoch 2/100\n",
      "28/28 [==============================] - 15s 535ms/step - loss: 0.5116 - accuracy: 0.8085 - val_loss: 0.8095 - val_accuracy: 0.4870\n",
      "Epoch 3/100\n",
      "28/28 [==============================] - 15s 527ms/step - loss: 0.4417 - accuracy: 0.8332 - val_loss: 0.6432 - val_accuracy: 0.6169\n",
      "Epoch 4/100\n",
      "28/28 [==============================] - 15s 523ms/step - loss: 0.3643 - accuracy: 0.8563 - val_loss: 1.1854 - val_accuracy: 0.5195\n",
      "Epoch 5/100\n",
      "28/28 [==============================] - 15s 518ms/step - loss: 0.3244 - accuracy: 0.8782 - val_loss: 1.0084 - val_accuracy: 0.5325\n",
      "Epoch 6/100\n",
      "28/28 [==============================] - 15s 528ms/step - loss: 0.2970 - accuracy: 0.8815 - val_loss: 0.8586 - val_accuracy: 0.5325\n",
      "Epoch 7/100\n",
      "28/28 [==============================] - 15s 528ms/step - loss: 0.2564 - accuracy: 0.9017 - val_loss: 1.8707 - val_accuracy: 0.5173\n",
      "Epoch 8/100\n",
      "28/28 [==============================] - 14s 510ms/step - loss: 0.2443 - accuracy: 0.9062 - val_loss: 0.7217 - val_accuracy: 0.6580\n",
      "Epoch 9/100\n",
      "28/28 [==============================] - 15s 533ms/step - loss: 0.2344 - accuracy: 0.9135 - val_loss: 0.8705 - val_accuracy: 0.5390\n",
      "Epoch 10/100\n",
      "28/28 [==============================] - 15s 521ms/step - loss: 0.2164 - accuracy: 0.9158 - val_loss: 0.8557 - val_accuracy: 0.5779\n",
      "Epoch 11/100\n",
      "28/28 [==============================] - 15s 532ms/step - loss: 0.1657 - accuracy: 0.9422 - val_loss: 1.2821 - val_accuracy: 0.5281\n",
      "Epoch 12/100\n",
      "28/28 [==============================] - 15s 516ms/step - loss: 0.1633 - accuracy: 0.9399 - val_loss: 0.6252 - val_accuracy: 0.7251\n",
      "Epoch 13/100\n",
      "28/28 [==============================] - 15s 524ms/step - loss: 0.1585 - accuracy: 0.9455 - val_loss: 0.5052 - val_accuracy: 0.7835\n",
      "Epoch 14/100\n",
      "28/28 [==============================] - 15s 513ms/step - loss: 0.1399 - accuracy: 0.9483 - val_loss: 0.2738 - val_accuracy: 0.8810\n",
      "Epoch 15/100\n",
      "28/28 [==============================] - 15s 525ms/step - loss: 0.1356 - accuracy: 0.9472 - val_loss: 0.1803 - val_accuracy: 0.9242\n",
      "Epoch 16/100\n",
      "28/28 [==============================] - 15s 512ms/step - loss: 0.1149 - accuracy: 0.9523 - val_loss: 0.3023 - val_accuracy: 0.9026\n",
      "Epoch 17/100\n",
      "28/28 [==============================] - 15s 523ms/step - loss: 0.1119 - accuracy: 0.9618 - val_loss: 0.5810 - val_accuracy: 0.8074\n",
      "Epoch 18/100\n",
      "28/28 [==============================] - 15s 516ms/step - loss: 0.1056 - accuracy: 0.9629 - val_loss: 0.3667 - val_accuracy: 0.8745\n",
      "Epoch 19/100\n",
      "28/28 [==============================] - 15s 514ms/step - loss: 0.1745 - accuracy: 0.9399 - val_loss: 0.1495 - val_accuracy: 0.9524\n",
      "Epoch 20/100\n",
      "28/28 [==============================] - 15s 514ms/step - loss: 0.1152 - accuracy: 0.9556 - val_loss: 0.1081 - val_accuracy: 0.9632\n",
      "Epoch 21/100\n",
      "28/28 [==============================] - 15s 515ms/step - loss: 0.0980 - accuracy: 0.9607 - val_loss: 0.2630 - val_accuracy: 0.9416\n",
      "Epoch 22/100\n",
      "28/28 [==============================] - 15s 514ms/step - loss: 0.1184 - accuracy: 0.9624 - val_loss: 0.1545 - val_accuracy: 0.9502\n",
      "Epoch 23/100\n",
      "28/28 [==============================] - 15s 520ms/step - loss: 0.1327 - accuracy: 0.9512 - val_loss: 0.3447 - val_accuracy: 0.8961\n",
      "Epoch 24/100\n",
      "28/28 [==============================] - 15s 517ms/step - loss: 0.1119 - accuracy: 0.9551 - val_loss: 0.1396 - val_accuracy: 0.9459\n",
      "Epoch 25/100\n",
      "28/28 [==============================] - 14s 509ms/step - loss: 0.1006 - accuracy: 0.9635 - val_loss: 0.1511 - val_accuracy: 0.9524\n",
      "Epoch 26/100\n",
      "28/28 [==============================] - 15s 520ms/step - loss: 0.0919 - accuracy: 0.9657 - val_loss: 0.1735 - val_accuracy: 0.9545\n",
      "Epoch 27/100\n",
      "28/28 [==============================] - 15s 515ms/step - loss: 0.0842 - accuracy: 0.9680 - val_loss: 0.3838 - val_accuracy: 0.9113\n",
      "Epoch 28/100\n",
      "28/28 [==============================] - 15s 517ms/step - loss: 0.1266 - accuracy: 0.9495 - val_loss: 0.1748 - val_accuracy: 0.9351\n",
      "Epoch 29/100\n",
      "28/28 [==============================] - 15s 524ms/step - loss: 0.0819 - accuracy: 0.9719 - val_loss: 0.2860 - val_accuracy: 0.9372\n",
      "Epoch 30/100\n",
      "28/28 [==============================] - 15s 518ms/step - loss: 0.1118 - accuracy: 0.9579 - val_loss: 0.2123 - val_accuracy: 0.9307\n",
      "Epoch 31/100\n",
      "28/28 [==============================] - 15s 519ms/step - loss: 0.0966 - accuracy: 0.9624 - val_loss: 0.1041 - val_accuracy: 0.9654\n",
      "Epoch 32/100\n",
      "28/28 [==============================] - 15s 536ms/step - loss: 0.0822 - accuracy: 0.9674 - val_loss: 0.1775 - val_accuracy: 0.9372\n",
      "Epoch 33/100\n",
      "28/28 [==============================] - 14s 510ms/step - loss: 0.0766 - accuracy: 0.9747 - val_loss: 0.1361 - val_accuracy: 0.9567\n",
      "Epoch 34/100\n",
      "28/28 [==============================] - 15s 524ms/step - loss: 0.0693 - accuracy: 0.9725 - val_loss: 0.3208 - val_accuracy: 0.9329\n",
      "Epoch 35/100\n",
      "28/28 [==============================] - 14s 512ms/step - loss: 0.1319 - accuracy: 0.9472 - val_loss: 0.2351 - val_accuracy: 0.9221\n",
      "Epoch 36/100\n",
      "28/28 [==============================] - 14s 514ms/step - loss: 0.1132 - accuracy: 0.9596 - val_loss: 0.1174 - val_accuracy: 0.9567\n",
      "Epoch 37/100\n",
      "28/28 [==============================] - 15s 514ms/step - loss: 0.0849 - accuracy: 0.9691 - val_loss: 0.1233 - val_accuracy: 0.9589\n",
      "Epoch 38/100\n",
      "28/28 [==============================] - 15s 537ms/step - loss: 0.0765 - accuracy: 0.9674 - val_loss: 0.0924 - val_accuracy: 0.9762\n",
      "Epoch 39/100\n",
      "28/28 [==============================] - 15s 518ms/step - loss: 0.0780 - accuracy: 0.9652 - val_loss: 0.6021 - val_accuracy: 0.8745\n",
      "Epoch 40/100\n",
      "28/28 [==============================] - 15s 521ms/step - loss: 0.0736 - accuracy: 0.9697 - val_loss: 0.4236 - val_accuracy: 0.8810\n",
      "Epoch 41/100\n",
      "28/28 [==============================] - 14s 501ms/step - loss: 0.0646 - accuracy: 0.9730 - val_loss: 0.1517 - val_accuracy: 0.9567\n",
      "Epoch 42/100\n",
      "28/28 [==============================] - 15s 518ms/step - loss: 0.0595 - accuracy: 0.9787 - val_loss: 0.1258 - val_accuracy: 0.9589\n",
      "Epoch 43/100\n",
      "28/28 [==============================] - 15s 514ms/step - loss: 0.0800 - accuracy: 0.9686 - val_loss: 0.2088 - val_accuracy: 0.9567\n",
      "Epoch 44/100\n",
      "28/28 [==============================] - 15s 519ms/step - loss: 0.0741 - accuracy: 0.9697 - val_loss: 0.2344 - val_accuracy: 0.9307\n",
      "Epoch 45/100\n",
      "28/28 [==============================] - 15s 522ms/step - loss: 0.0651 - accuracy: 0.9753 - val_loss: 0.1563 - val_accuracy: 0.9502\n",
      "Epoch 46/100\n",
      "28/28 [==============================] - 15s 517ms/step - loss: 0.0521 - accuracy: 0.9803 - val_loss: 0.1214 - val_accuracy: 0.9632\n",
      "Epoch 47/100\n",
      "28/28 [==============================] - 15s 519ms/step - loss: 0.0500 - accuracy: 0.9803 - val_loss: 0.1090 - val_accuracy: 0.9697\n",
      "Epoch 48/100\n",
      "28/28 [==============================] - 15s 537ms/step - loss: 0.0412 - accuracy: 0.9848 - val_loss: 0.1405 - val_accuracy: 0.9654\n",
      "Epoch 49/100\n",
      "28/28 [==============================] - 14s 505ms/step - loss: 0.0559 - accuracy: 0.9764 - val_loss: 0.1573 - val_accuracy: 0.9610\n",
      "Epoch 50/100\n",
      "28/28 [==============================] - 15s 529ms/step - loss: 0.0523 - accuracy: 0.9798 - val_loss: 0.1972 - val_accuracy: 0.9459\n",
      "Epoch 51/100\n",
      "28/28 [==============================] - 15s 521ms/step - loss: 0.0557 - accuracy: 0.9781 - val_loss: 0.1109 - val_accuracy: 0.9632\n",
      "Epoch 52/100\n",
      "28/28 [==============================] - 15s 530ms/step - loss: 0.0428 - accuracy: 0.9865 - val_loss: 0.1469 - val_accuracy: 0.9545\n",
      "Epoch 53/100\n",
      "28/28 [==============================] - 15s 514ms/step - loss: 0.0475 - accuracy: 0.9837 - val_loss: 0.3041 - val_accuracy: 0.9329\n",
      "Epoch 54/100\n",
      "28/28 [==============================] - 15s 515ms/step - loss: 0.0602 - accuracy: 0.9747 - val_loss: 0.1262 - val_accuracy: 0.9610\n",
      "Epoch 55/100\n",
      "28/28 [==============================] - 15s 534ms/step - loss: 0.0582 - accuracy: 0.9787 - val_loss: 0.2322 - val_accuracy: 0.9307\n",
      "Epoch 56/100\n",
      "28/28 [==============================] - 15s 522ms/step - loss: 0.0572 - accuracy: 0.9766 - val_loss: 1.0417 - val_accuracy: 0.7468\n",
      "Epoch 57/100\n"
     ]
    },
    {
     "name": "stdout",
     "output_type": "stream",
     "text": [
      "28/28 [==============================] - 15s 512ms/step - loss: 0.0527 - accuracy: 0.9803 - val_loss: 0.2133 - val_accuracy: 0.9416\n",
      "Epoch 58/100\n",
      "28/28 [==============================] - 15s 526ms/step - loss: 0.0503 - accuracy: 0.9815 - val_loss: 0.1609 - val_accuracy: 0.9524\n",
      "Epoch 59/100\n",
      "28/28 [==============================] - 15s 533ms/step - loss: 0.0591 - accuracy: 0.9798 - val_loss: 0.4013 - val_accuracy: 0.9026\n",
      "Epoch 60/100\n",
      "28/28 [==============================] - 14s 506ms/step - loss: 0.0470 - accuracy: 0.9832 - val_loss: 0.1856 - val_accuracy: 0.9351\n",
      "Epoch 61/100\n",
      "28/28 [==============================] - 15s 528ms/step - loss: 0.0504 - accuracy: 0.9798 - val_loss: 0.6764 - val_accuracy: 0.8506\n",
      "Epoch 62/100\n",
      "28/28 [==============================] - 15s 521ms/step - loss: 0.0464 - accuracy: 0.9809 - val_loss: 0.1160 - val_accuracy: 0.9654\n",
      "Epoch 63/100\n",
      "28/28 [==============================] - 15s 516ms/step - loss: 0.0532 - accuracy: 0.9809 - val_loss: 0.7158 - val_accuracy: 0.8701\n",
      "Epoch 64/100\n",
      "28/28 [==============================] - 15s 523ms/step - loss: 0.0462 - accuracy: 0.9848 - val_loss: 0.4379 - val_accuracy: 0.9004\n",
      "Epoch 65/100\n",
      "28/28 [==============================] - 15s 511ms/step - loss: 0.0323 - accuracy: 0.9882 - val_loss: 0.1119 - val_accuracy: 0.9654\n",
      "Epoch 66/100\n",
      "28/28 [==============================] - 15s 518ms/step - loss: 0.0456 - accuracy: 0.9815 - val_loss: 0.1419 - val_accuracy: 0.9610\n",
      "Epoch 67/100\n",
      "28/28 [==============================] - 15s 515ms/step - loss: 0.0583 - accuracy: 0.9792 - val_loss: 1.5346 - val_accuracy: 0.7359\n",
      "Epoch 68/100\n",
      "28/28 [==============================] - 15s 512ms/step - loss: 0.0468 - accuracy: 0.9865 - val_loss: 0.1874 - val_accuracy: 0.9437\n",
      "Epoch 69/100\n",
      "28/28 [==============================] - 14s 509ms/step - loss: 0.0430 - accuracy: 0.9848 - val_loss: 0.3782 - val_accuracy: 0.9221\n",
      "Epoch 70/100\n",
      "28/28 [==============================] - 15s 515ms/step - loss: 0.0484 - accuracy: 0.9837 - val_loss: 0.1125 - val_accuracy: 0.9589\n",
      "Epoch 71/100\n",
      "28/28 [==============================] - 15s 528ms/step - loss: 0.0408 - accuracy: 0.9854 - val_loss: 0.1391 - val_accuracy: 0.9632\n",
      "Epoch 72/100\n",
      "28/28 [==============================] - 15s 517ms/step - loss: 0.0433 - accuracy: 0.9832 - val_loss: 0.2556 - val_accuracy: 0.9459\n",
      "Epoch 73/100\n",
      "28/28 [==============================] - 14s 510ms/step - loss: 0.0465 - accuracy: 0.9820 - val_loss: 0.8303 - val_accuracy: 0.8701\n",
      "Epoch 74/100\n",
      "28/28 [==============================] - 15s 525ms/step - loss: 0.0416 - accuracy: 0.9854 - val_loss: 0.2117 - val_accuracy: 0.9481\n",
      "Epoch 75/100\n",
      "28/28 [==============================] - 15s 515ms/step - loss: 0.0542 - accuracy: 0.9837 - val_loss: 0.1570 - val_accuracy: 0.9502\n",
      "Epoch 76/100\n",
      "28/28 [==============================] - 15s 514ms/step - loss: 0.0409 - accuracy: 0.9837 - val_loss: 0.1180 - val_accuracy: 0.9632\n",
      "Epoch 77/100\n",
      "28/28 [==============================] - 15s 513ms/step - loss: 0.0369 - accuracy: 0.9865 - val_loss: 2.8335 - val_accuracy: 0.5974\n",
      "Epoch 78/100\n",
      "28/28 [==============================] - 15s 518ms/step - loss: 0.0286 - accuracy: 0.9921 - val_loss: 0.2636 - val_accuracy: 0.9351\n",
      "Epoch 79/100\n",
      "28/28 [==============================] - 15s 514ms/step - loss: 0.0397 - accuracy: 0.9860 - val_loss: 1.1737 - val_accuracy: 0.7987\n",
      "Epoch 80/100\n",
      "28/28 [==============================] - 15s 525ms/step - loss: 0.0360 - accuracy: 0.9826 - val_loss: 0.3094 - val_accuracy: 0.9307\n",
      "Epoch 81/100\n",
      "28/28 [==============================] - 15s 527ms/step - loss: 0.0460 - accuracy: 0.9855 - val_loss: 0.2616 - val_accuracy: 0.9437\n",
      "Epoch 82/100\n",
      "28/28 [==============================] - 15s 529ms/step - loss: 0.0281 - accuracy: 0.9899 - val_loss: 0.5152 - val_accuracy: 0.8680\n",
      "Epoch 83/100\n",
      "28/28 [==============================] - 15s 529ms/step - loss: 0.0404 - accuracy: 0.9854 - val_loss: 0.1342 - val_accuracy: 0.9567\n",
      "Epoch 84/100\n",
      "28/28 [==============================] - 14s 511ms/step - loss: 0.0487 - accuracy: 0.9809 - val_loss: 0.1590 - val_accuracy: 0.9567\n",
      "Epoch 85/100\n",
      "28/28 [==============================] - 14s 499ms/step - loss: 0.0481 - accuracy: 0.9826 - val_loss: 0.1504 - val_accuracy: 0.9589\n",
      "Epoch 86/100\n",
      "28/28 [==============================] - 15s 518ms/step - loss: 0.0224 - accuracy: 0.9910 - val_loss: 0.1385 - val_accuracy: 0.9632\n",
      "Epoch 87/100\n",
      "28/28 [==============================] - 14s 511ms/step - loss: 0.0476 - accuracy: 0.9826 - val_loss: 0.1247 - val_accuracy: 0.9740\n",
      "Epoch 88/100\n",
      "28/28 [==============================] - 15s 517ms/step - loss: 0.0386 - accuracy: 0.9826 - val_loss: 0.1823 - val_accuracy: 0.9502\n",
      "Epoch 89/100\n",
      "28/28 [==============================] - 15s 512ms/step - loss: 0.0368 - accuracy: 0.9860 - val_loss: 0.1279 - val_accuracy: 0.9589\n",
      "Epoch 90/100\n",
      "28/28 [==============================] - 15s 520ms/step - loss: 0.0511 - accuracy: 0.9820 - val_loss: 0.4917 - val_accuracy: 0.9069\n",
      "Epoch 91/100\n",
      "28/28 [==============================] - 15s 519ms/step - loss: 0.0644 - accuracy: 0.9815 - val_loss: 0.1734 - val_accuracy: 0.9481\n",
      "Epoch 92/100\n",
      "28/28 [==============================] - 15s 515ms/step - loss: 0.0459 - accuracy: 0.9843 - val_loss: 0.2820 - val_accuracy: 0.9307\n",
      "Epoch 93/100\n",
      "28/28 [==============================] - 15s 517ms/step - loss: 0.0374 - accuracy: 0.9854 - val_loss: 0.1716 - val_accuracy: 0.9610\n",
      "Epoch 94/100\n",
      "28/28 [==============================] - 15s 511ms/step - loss: 0.0392 - accuracy: 0.9832 - val_loss: 0.1935 - val_accuracy: 0.9524\n",
      "Epoch 95/100\n",
      "28/28 [==============================] - 15s 525ms/step - loss: 0.0388 - accuracy: 0.9865 - val_loss: 0.2398 - val_accuracy: 0.9481\n",
      "Epoch 96/100\n",
      "28/28 [==============================] - 14s 508ms/step - loss: 0.0741 - accuracy: 0.9719 - val_loss: 2.1947 - val_accuracy: 0.6905\n",
      "Epoch 97/100\n",
      "28/28 [==============================] - 15s 513ms/step - loss: 0.0290 - accuracy: 0.9877 - val_loss: 0.7511 - val_accuracy: 0.8485\n",
      "Epoch 98/100\n",
      "28/28 [==============================] - 15s 512ms/step - loss: 0.0466 - accuracy: 0.9854 - val_loss: 2.3069 - val_accuracy: 0.6472\n",
      "Epoch 99/100\n",
      "28/28 [==============================] - 15s 535ms/step - loss: 0.0358 - accuracy: 0.9871 - val_loss: 0.1083 - val_accuracy: 0.9697\n",
      "Epoch 100/100\n",
      "28/28 [==============================] - 15s 515ms/step - loss: 0.0338 - accuracy: 0.9876 - val_loss: 0.5893 - val_accuracy: 0.8853\n"
     ]
    }
   ],
   "source": [
    "# train the model\n",
    "H = model.fit_generator(aug.flow(trainX, trainY, batch_size=batch_size),\n",
    "                        validation_data=(testX,testY),\n",
    "                        steps_per_epoch=len(trainX) // batch_size,\n",
    "                        epochs=epochs, verbose=1)"
   ]
  },
  {
   "cell_type": "code",
   "execution_count": 15,
   "id": "ce7e7180",
   "metadata": {},
   "outputs": [
    {
     "name": "stderr",
     "output_type": "stream",
     "text": [
      "WARNING:absl:Found untraced functions such as _jit_compiled_convolution_op, _jit_compiled_convolution_op, _jit_compiled_convolution_op, _jit_compiled_convolution_op, _jit_compiled_convolution_op while saving (showing 5 of 5). These functions will not be directly callable after loading.\n"
     ]
    },
    {
     "name": "stdout",
     "output_type": "stream",
     "text": [
      "INFO:tensorflow:Assets written to: gender_detection.model\\assets\n"
     ]
    },
    {
     "name": "stderr",
     "output_type": "stream",
     "text": [
      "INFO:tensorflow:Assets written to: gender_detection.model\\assets\n"
     ]
    }
   ],
   "source": [
    "# save the model to disk\n",
    "model.save('gender_detection.model')"
   ]
  },
  {
   "cell_type": "code",
   "execution_count": 21,
   "id": "4e1bd84f",
   "metadata": {},
   "outputs": [
    {
     "data": {
      "image/png": "[encoded data removed]",
      "text/plain": [
       "<Figure size 640x480 with 1 Axes>"
      ]
     },
     "metadata": {},
     "output_type": "display_data"
    }
   ],
   "source": [
    "plt.style.use(\"ggplot\")\n",
    "plt.figure()\n",
    "N = epochs\n",
    "plt.plot(np.arange(0,N), H.history[\"loss\"], label=\"train_loss\")\n",
    "plt.plot(np.arange(0,N), H.history[\"val_loss\"], label=\"val_loss\")\n",
    "plt.plot(np.arange(0,N), H.history[\"accuracy\"], label=\"train_acc\")\n",
    "plt.plot(np.arange(0,N), H.history[\"val_accuracy\"], label=\"val_acc\")\n",
    "\n",
    "plt.title(\"Training Loss and Accuracy\")\n",
    "plt.xlabel(\"Epoch #\")\n",
    "plt.ylabel(\"Loss/Accuracy\")\n",
    "plt.legend(loc=\"upper right\")\n",
    "\n",
    "# saving plot to disk\n",
    "plt.savefig('plot.png')"
   ]
  },
  {
   "cell_type": "code",
   "execution_count": 20,
   "id": "50d2ac01",
   "metadata": {},
   "outputs": [
    {
     "data": {
      "text/plain": [
       "<Figure size 640x480 with 0 Axes>"
      ]
     },
     "metadata": {},
     "output_type": "display_data"
    }
   ],
   "source": [
    "# saving plot to disk\n",
    "plt.savefig('plot.png')"
   ]
  },
  {
   "cell_type": "code",
   "execution_count": null,
   "id": "2afdce7f",
   "metadata": {},
   "outputs": [],
   "source": []
  }
 ],
 "metadata": {
  "kernelspec": {
   "display_name": "Python 3 (ipykernel)",
   "language": "python",
   "name": "python3"
  },
  "language_info": {
   "codemirror_mode": {
    "name": "ipython",
    "version": 3
   },
   "file_extension": ".py",
   "mimetype": "text/x-python",
   "name": "python",
   "nbconvert_exporter": "python",
   "pygments_lexer": "ipython3",
   "version": "3.10.11"
  }
 },
 "nbformat": 4,
 "nbformat_minor": 5
}
